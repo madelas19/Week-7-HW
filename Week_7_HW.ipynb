{
  "nbformat": 4,
  "nbformat_minor": 0,
  "metadata": {
    "colab": {
      "provenance": []
    },
    "kernelspec": {
      "name": "python3",
      "display_name": "Python 3"
    },
    "language_info": {
      "name": "python"
    }
  },
  "cells": [
    {
      "cell_type": "markdown",
      "source": [
        "1. How do you assess the statistical significance of an insight?\n",
        "<p> Selecting a statistical test, setting a statistical significance level (α), calculating test statistic, calculating p-value, making a decision, and drawing a conclusion then. </p>"
      ],
      "metadata": {
        "id": "1iblsqxLseS_"
      }
    },
    {
      "cell_type": "markdown",
      "source": [
        "2. What is the Central Limit Theorem? Explain it. Why is it important?\n",
        "<p>\n",
        "Central Limit Theorem is a principle that the distribution of a sample means approximates a normal distribution as the sample size gets larger, regardless of the population's distribution. The significance of Central Limit Theorem is the application of Standards Error of the Mean (SEM) to measure how far the sample mean (average) of the data is likely to be from the true population mean.\n",
        "</p>"
      ],
      "metadata": {
        "id": "9VFTWvfRshxO"
      }
    },
    {
      "cell_type": "markdown",
      "source": [
        "3. What is the statistical power?\n",
        "<p>\n",
        "Statistical power is also known as the likelihood of a significance test detecting an effect when there actually is one.\n",
        "</p>"
      ],
      "metadata": {
        "id": "Si5ED62xslmg"
      }
    },
    {
      "cell_type": "markdown",
      "source": [
        "4. How do you control for biases?\n",
        "<p>\n",
        "\n",
        "Null Hypothesis Significance Testing will eliminate biases since it can either reject or accept a hypothesis being made by processing the data being provided under several statistical tests.\n",
        "\n",
        "</p>"
      ],
      "metadata": {
        "id": "GRlX2ycyso_i"
      }
    },
    {
      "cell_type": "markdown",
      "source": [
        "5. What are confounding variables?\n",
        "\n",
        "<p>\n",
        "Confounding variables are the dependent and independent variables.\n",
        "</p>"
      ],
      "metadata": {
        "id": "Eo2SL_K7ssdh"
      }
    },
    {
      "cell_type": "markdown",
      "source": [
        "6. What is A/B testing?\n",
        "<p>\n",
        "A/B testing, also known as split testing or bucket testing, is a method for comparing two or more versions of something to determine which performs best.\n",
        "</p>"
      ],
      "metadata": {
        "id": "PFCY0o5Fswz3"
      }
    },
    {
      "cell_type": "markdown",
      "source": [
        "7. What are confidence intervals?\n",
        "<p>\n",
        "Confidence intervals are boundaries set in order to accept or reject a null hypothesis or an argument. Or in another words, a confidence interval, in statistics, refers to the probability that a population parameter will fall between a set of values for a certain proportion of times.\n",
        "</p>"
      ],
      "metadata": {
        "id": "ZyM_LHEds1Du"
      }
    }
  ]
}